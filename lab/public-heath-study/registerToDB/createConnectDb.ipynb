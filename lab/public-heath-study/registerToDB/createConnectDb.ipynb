{
 "cells": [
  {
   "cell_type": "code",
   "execution_count": 21,
   "metadata": {},
   "outputs": [],
   "source": [
    "import pandas as pd\n",
    "import numpy as np\n",
    "import pymysql as pymysql\n",
    "import mysql.connector\n",
    "from mysql.connector import Error\n",
    "\n",
    "\n"
   ]
  },
  {
   "cell_type": "code",
   "execution_count": 22,
   "metadata": {},
   "outputs": [
    {
     "name": "stdout",
     "output_type": "stream",
     "text": [
      "Connected to MySQL Server version  8.0.21\n",
      "You're connected to database:  ('health',)\n",
      "MySQL connection is closed\n"
     ]
    }
   ],
   "source": [
    "try:\n",
    "    connect = mysql.connector.connect(   host='db',\n",
    "                                         database='health',\n",
    "                                         user='root',\n",
    "                                         password='root'\n",
    "                                  )\n",
    "    if connect.is_connected():\n",
    "        db_Info = test.get_server_info()\n",
    "        print(\"Connected to MySQL Server version \", db_Info)\n",
    "        cursor = test.cursor()\n",
    "        cursor.execute(\"select database();\")\n",
    "        record = cursor.fetchone()\n",
    "        print(\"You're connected to database: \", record)\n",
    "\n",
    "except Error as e:\n",
    "    print(\"Error while connecting to MySQL\", e)\n",
    "finally:\n",
    "    if (connect.is_connected()):\n",
    "        cursor.close()\n",
    "        connect.close()\n",
    "        print(\"MySQL connection is closed\")"
   ]
  },
  {
   "cell_type": "markdown",
   "metadata": {},
   "source": [
    "## RAJOUTER DES columns DB"
   ]
  },
  {
   "cell_type": "code",
   "execution_count": 23,
   "metadata": {},
   "outputs": [
    {
     "name": "stdout",
     "output_type": "stream",
     "text": [
      "MySQL connection is closed\n"
     ]
    }
   ],
   "source": [
    "try:\n",
    "    connect = mysql.connector.connect(   host='db',\n",
    "                                         database='health',\n",
    "                                         user='root',\n",
    "                                         password='root'\n",
    "                                  )\n",
    "    cursor = connect.cursor()\n",
    "    \n",
    "    \n",
    "    cursor.execute(\"CREATE TABLE IF NOT EXISTS population (pays VARCHAR(255), code_pays INT NOT NULL, annee VARCHAR(255), population INT,PRIMARY KEY (code_pays))\")\n",
    "    cursor.execute(\"CREATE TABLE IF NOT EXISTS sous_nutrition (pays VARCHAR(255), code_pays INT NOT NULL, annee VARCHAR(255), nb_personnes INT,PRIMARY KEY (code_pays))\")\n",
    "    cursor.execute(\"CREATE TABLE IF NOT EXISTS dispo_alim ( pays VARCHAR(255), code_pays INT, annee VARCHAR(255), produit VARCHAR(255) , code_produit INT NOT NULL , origin VARCHAR(255), dispo_alim_tonnes FLOAT, dispo_alim_kcal_p_j FLOAT, dispo_prot FLOAT, dispo_mat_gr FLOAT,PRIMARY KEY (code_pays,code_produit))\")\n",
    "    cursor.execute(\"CREATE TABLE IF NOT EXISTS equilibre_prod (pays VARCHAR(255), code_pays INT NOT NULL, annee VARCHAR(255) ,produit VARCHAR(255) ,code_produit INT NOT NULL, dispo_int FLOAT, alim_ani FLOAT, semences FLOAT, pertes FLOAT, transfo FLOAT, nourriture FLOAT, autres_utilisations FLOAT,PRIMARY KEY (code_pays, code_produit))\")\n",
    "\n",
    "\n",
    "except Error as e:\n",
    "    print(\"Error while connecting to MySQL\", e)\n",
    "finally:\n",
    "    if (connect.is_connected()):\n",
    "        cursor.close()\n",
    "        connect.close()\n",
    "        print(\"MySQL connection is closed\")\n",
    "\n",
    "\n"
   ]
  },
  {
   "cell_type": "code",
   "execution_count": null,
   "metadata": {},
   "outputs": [],
   "source": []
  }
 ],
 "metadata": {
  "kernelspec": {
   "display_name": "Python 3",
   "language": "python",
   "name": "python3"
  },
  "language_info": {
   "codemirror_mode": {
    "name": "ipython",
    "version": 3
   },
   "file_extension": ".py",
   "mimetype": "text/x-python",
   "name": "python",
   "nbconvert_exporter": "python",
   "pygments_lexer": "ipython3",
   "version": "3.9.0"
  }
 },
 "nbformat": 4,
 "nbformat_minor": 4
}
